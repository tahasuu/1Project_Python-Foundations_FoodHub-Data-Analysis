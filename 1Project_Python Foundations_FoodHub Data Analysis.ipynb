{
 "cells": [
  {
   "cell_type": "markdown",
   "metadata": {
    "id": "NqikjkWwJY_L"
   },
   "source": [
    "### Context\n",
    "\n",
    "The number of restaurants in New York is increasing day by day. Lots of students and busy professionals rely on those restaurants due to their hectic lifestyles. Online food delivery service is a great option for them. It provides them with good food from their favorite restaurants. A food aggregator company FoodHub offers access to multiple restaurants through a single smartphone app.\n",
    "\n",
    "The app allows the restaurants to receive a direct online order from a customer. The app assigns a delivery person from the company to pick up the order after it is confirmed by the restaurant. The delivery person then uses the map to reach the restaurant and waits for the food package. Once the food package is handed over to the delivery person, he/she confirms the pick-up in the app and travels to the customer's location to deliver the food. The delivery person confirms the drop-off in the app after delivering the food package to the customer. The customer can rate the order in the app. The food aggregator earns money by collecting a fixed margin of the delivery order from the restaurants.\n",
    "\n",
    "### Objective\n",
    "\n",
    "The food aggregator company has stored the data of the different orders made by the registered customers in their online portal. They want to analyze the data to get a fair idea about the demand of different restaurants which will help them in enhancing their customer experience. Suppose you are hired as a Data Scientist in this company and the Data Science team has shared some of the key questions that need to be answered. Perform the data analysis to find answers to these questions that will help the company to improve the business. \n",
    "\n",
    "### Data Description\n",
    "\n",
    "The data contains the different data related to a food order. The detailed data dictionary is given below.\n",
    "\n",
    "### Data Dictionary\n",
    "\n",
    "* order_id: Unique ID of the order\n",
    "* customer_id: ID of the customer who ordered the food\n",
    "* restaurant_name: Name of the restaurant\n",
    "* cuisine_type: Cuisine ordered by the customer\n",
    "* cost: Cost of the order\n",
    "* day_of_the_week: Indicates whether the order is placed on a weekday or weekend (The weekday is from Monday to Friday and the weekend is Saturday and Sunday)\n",
    "* rating: Rating given by the customer out of 5\n",
    "* food_preparation_time: Time (in minutes) taken by the restaurant to prepare the food. This is calculated by taking the difference between the timestamps of the restaurant's order confirmation and the delivery person's pick-up confirmation.\n",
    "* delivery_time: Time (in minutes) taken by the delivery person to deliver the food package. This is calculated by taking the difference between the timestamps of the delivery person's pick-up confirmation and drop-off information"
   ]
  },
  {
   "cell_type": "markdown",
   "metadata": {
    "id": "cEtNUxNAJY_M"
   },
   "source": [
    "### Let us start by importing the required libraries"
   ]
  },
  {
   "cell_type": "code",
   "execution_count": 4,
   "metadata": {
    "id": "u6PlpJAPJY_N"
   },
   "outputs": [],
   "source": [
    "# import libraries for data manipulation\n",
    "import numpy as np\n",
    "import pandas as pd\n",
    "\n",
    "# import libraries for data visualization\n",
    "import matplotlib.pyplot as plt\n",
    "import seaborn as sns"
   ]
  },
  {
   "cell_type": "markdown",
   "metadata": {
    "id": "AdracY0HJY_O"
   },
   "source": [
    "### Understanding the structure of the data"
   ]
  },
  {
   "cell_type": "code",
   "execution_count": 5,
   "metadata": {
    "id": "WBh2ZGB9kFhU"
   },
   "outputs": [],
   "source": [
    "# uncomment and run the following lines for Google Colab\n",
    "# from google.colab import drive\n",
    "# drive.mount('/content/drive')"
   ]
  },
  {
   "cell_type": "code",
   "execution_count": 6,
   "metadata": {
    "id": "GF01IZDbJY_O",
    "scrolled": true
   },
   "outputs": [
    {
     "data": {
      "text/html": [
       "<div>\n",
       "<style scoped>\n",
       "    .dataframe tbody tr th:only-of-type {\n",
       "        vertical-align: middle;\n",
       "    }\n",
       "\n",
       "    .dataframe tbody tr th {\n",
       "        vertical-align: top;\n",
       "    }\n",
       "\n",
       "    .dataframe thead th {\n",
       "        text-align: right;\n",
       "    }\n",
       "</style>\n",
       "<table border=\"1\" class=\"dataframe\">\n",
       "  <thead>\n",
       "    <tr style=\"text-align: right;\">\n",
       "      <th></th>\n",
       "      <th>order_id</th>\n",
       "      <th>customer_id</th>\n",
       "      <th>restaurant_name</th>\n",
       "      <th>cuisine_type</th>\n",
       "      <th>cost_of_the_order</th>\n",
       "      <th>day_of_the_week</th>\n",
       "      <th>rating</th>\n",
       "      <th>food_preparation_time</th>\n",
       "      <th>delivery_time</th>\n",
       "    </tr>\n",
       "  </thead>\n",
       "  <tbody>\n",
       "    <tr>\n",
       "      <th>0</th>\n",
       "      <td>1477147</td>\n",
       "      <td>337525</td>\n",
       "      <td>Hangawi</td>\n",
       "      <td>Korean</td>\n",
       "      <td>30.75</td>\n",
       "      <td>Weekend</td>\n",
       "      <td>Not given</td>\n",
       "      <td>25</td>\n",
       "      <td>20</td>\n",
       "    </tr>\n",
       "    <tr>\n",
       "      <th>1</th>\n",
       "      <td>1477685</td>\n",
       "      <td>358141</td>\n",
       "      <td>Blue Ribbon Sushi Izakaya</td>\n",
       "      <td>Japanese</td>\n",
       "      <td>12.08</td>\n",
       "      <td>Weekend</td>\n",
       "      <td>Not given</td>\n",
       "      <td>25</td>\n",
       "      <td>23</td>\n",
       "    </tr>\n",
       "    <tr>\n",
       "      <th>2</th>\n",
       "      <td>1477070</td>\n",
       "      <td>66393</td>\n",
       "      <td>Cafe Habana</td>\n",
       "      <td>Mexican</td>\n",
       "      <td>12.23</td>\n",
       "      <td>Weekday</td>\n",
       "      <td>5</td>\n",
       "      <td>23</td>\n",
       "      <td>28</td>\n",
       "    </tr>\n",
       "    <tr>\n",
       "      <th>3</th>\n",
       "      <td>1477334</td>\n",
       "      <td>106968</td>\n",
       "      <td>Blue Ribbon Fried Chicken</td>\n",
       "      <td>American</td>\n",
       "      <td>29.20</td>\n",
       "      <td>Weekend</td>\n",
       "      <td>3</td>\n",
       "      <td>25</td>\n",
       "      <td>15</td>\n",
       "    </tr>\n",
       "    <tr>\n",
       "      <th>4</th>\n",
       "      <td>1478249</td>\n",
       "      <td>76942</td>\n",
       "      <td>Dirty Bird to Go</td>\n",
       "      <td>American</td>\n",
       "      <td>11.59</td>\n",
       "      <td>Weekday</td>\n",
       "      <td>4</td>\n",
       "      <td>25</td>\n",
       "      <td>24</td>\n",
       "    </tr>\n",
       "  </tbody>\n",
       "</table>\n",
       "</div>"
      ],
      "text/plain": [
       "   order_id  customer_id            restaurant_name cuisine_type  \\\n",
       "0   1477147       337525                    Hangawi       Korean   \n",
       "1   1477685       358141  Blue Ribbon Sushi Izakaya     Japanese   \n",
       "2   1477070        66393                Cafe Habana      Mexican   \n",
       "3   1477334       106968  Blue Ribbon Fried Chicken     American   \n",
       "4   1478249        76942           Dirty Bird to Go     American   \n",
       "\n",
       "   cost_of_the_order day_of_the_week     rating  food_preparation_time  \\\n",
       "0              30.75         Weekend  Not given                     25   \n",
       "1              12.08         Weekend  Not given                     25   \n",
       "2              12.23         Weekday          5                     23   \n",
       "3              29.20         Weekend          3                     25   \n",
       "4              11.59         Weekday          4                     25   \n",
       "\n",
       "   delivery_time  \n",
       "0             20  \n",
       "1             23  \n",
       "2             28  \n",
       "3             15  \n",
       "4             24  "
      ]
     },
     "execution_count": 6,
     "metadata": {},
     "output_type": "execute_result"
    }
   ],
   "source": [
    "# read the data\n",
    "df = pd.read_csv('foodhub_order.csv')\n",
    "# returns the first 5 rows\n",
    "df.head()"
   ]
  },
  {
   "cell_type": "markdown",
   "metadata": {
    "id": "J_Y9aJDJJY_P"
   },
   "source": [
    "#### Observations:\n",
    "\n",
    "The DataFrame has 9 columns as mentioned in the Data Dictionary. Data in each row corresponds to the order placed by a customer."
   ]
  },
  {
   "cell_type": "markdown",
   "metadata": {
    "id": "c3kenV4vJY_Q"
   },
   "source": [
    "### **Question 1:** How many rows and columns are present in the data? [0.5 mark]"
   ]
  },
  {
   "cell_type": "code",
   "execution_count": 7,
   "metadata": {
    "id": "Yvz5i-PhJY_Q"
   },
   "outputs": [
    {
     "data": {
      "text/plain": [
       "(1898, 9)"
      ]
     },
     "execution_count": 7,
     "metadata": {},
     "output_type": "execute_result"
    }
   ],
   "source": [
    "# Check the shape of the data\n",
    "df.shape"
   ]
  },
  {
   "cell_type": "markdown",
   "metadata": {
    "id": "UsTNy3unJY_R"
   },
   "source": [
    "#### Observations:\n",
    "The DataFrame has 1898 rows and 9 columns."
   ]
  },
  {
   "cell_type": "markdown",
   "metadata": {
    "id": "jRXakVrUJY_R"
   },
   "source": [
    "### **Question 2:** What are the datatypes of the different columns in the dataset? (The info() function can be used) [0.5 mark]"
   ]
  },
  {
   "cell_type": "code",
   "execution_count": 8,
   "metadata": {
    "id": "Kp70Z0BNJY_R"
   },
   "outputs": [
    {
     "name": "stdout",
     "output_type": "stream",
     "text": [
      "<class 'pandas.core.frame.DataFrame'>\n",
      "RangeIndex: 1898 entries, 0 to 1897\n",
      "Data columns (total 9 columns):\n",
      " #   Column                 Non-Null Count  Dtype  \n",
      "---  ------                 --------------  -----  \n",
      " 0   order_id               1898 non-null   int64  \n",
      " 1   customer_id            1898 non-null   int64  \n",
      " 2   restaurant_name        1898 non-null   object \n",
      " 3   cuisine_type           1898 non-null   object \n",
      " 4   cost_of_the_order      1898 non-null   float64\n",
      " 5   day_of_the_week        1898 non-null   object \n",
      " 6   rating                 1898 non-null   object \n",
      " 7   food_preparation_time  1898 non-null   int64  \n",
      " 8   delivery_time          1898 non-null   int64  \n",
      "dtypes: float64(1), int64(4), object(4)\n",
      "memory usage: 133.6+ KB\n"
     ]
    }
   ],
   "source": [
    "# Use info() to print a concise summary of the DataFrame\n",
    "df.info()"
   ]
  },
  {
   "cell_type": "markdown",
   "metadata": {
    "id": "WJes5GP2JY_S"
   },
   "source": [
    "#### Observations:\n",
    "* There is no null value because data has 1898 non-null observartions in each of columns.\n",
    "* The data set contains 9 columns : 4 are of integer type (order_id, customer_id, food_preparation_time,delivery_time),1 is of floating point type (cost_of_the_order), and 4 are of the general object type(restaurant_name,cost_of_the_order, day_of_the_week,rating)\n",
    "* total memory is approx. 133.6"
   ]
  },
  {
   "cell_type": "markdown",
   "metadata": {
    "id": "pF_92MN6JY_S"
   },
   "source": [
    "### **Question 3:** Are there any missing values in the data? If yes, treat them using an appropriate method. [1 mark]"
   ]
  },
  {
   "cell_type": "code",
   "execution_count": 9,
   "metadata": {
    "id": "Zth-RR1PJY_S"
   },
   "outputs": [
    {
     "data": {
      "text/plain": [
       "order_id                 0\n",
       "customer_id              0\n",
       "restaurant_name          0\n",
       "cuisine_type             0\n",
       "cost_of_the_order        0\n",
       "day_of_the_week          0\n",
       "rating                   0\n",
       "food_preparation_time    0\n",
       "delivery_time            0\n",
       "dtype: int64"
      ]
     },
     "execution_count": 9,
     "metadata": {},
     "output_type": "execute_result"
    }
   ],
   "source": [
    "# to check the missing values\n",
    "df.isna().sum()"
   ]
  },
  {
   "cell_type": "markdown",
   "metadata": {
    "id": "jDHT3vD1JY_S"
   },
   "source": [
    "#### Observations:\n",
    "No missing values."
   ]
  },
  {
   "cell_type": "markdown",
   "metadata": {
    "id": "MnJo7MWrJY_S"
   },
   "source": [
    "### **Question 4:** Check the statistical summary of the data. What is the minimum, average, and maximum time it takes for food to be prepared once an order is placed? [2 marks]"
   ]
  },
  {
   "cell_type": "code",
   "execution_count": 10,
   "metadata": {
    "id": "WprQBgOSJY_T"
   },
   "outputs": [
    {
     "data": {
      "text/html": [
       "<div>\n",
       "<style scoped>\n",
       "    .dataframe tbody tr th:only-of-type {\n",
       "        vertical-align: middle;\n",
       "    }\n",
       "\n",
       "    .dataframe tbody tr th {\n",
       "        vertical-align: top;\n",
       "    }\n",
       "\n",
       "    .dataframe thead th {\n",
       "        text-align: right;\n",
       "    }\n",
       "</style>\n",
       "<table border=\"1\" class=\"dataframe\">\n",
       "  <thead>\n",
       "    <tr style=\"text-align: right;\">\n",
       "      <th></th>\n",
       "      <th>order_id</th>\n",
       "      <th>customer_id</th>\n",
       "      <th>cost_of_the_order</th>\n",
       "      <th>food_preparation_time</th>\n",
       "      <th>delivery_time</th>\n",
       "    </tr>\n",
       "  </thead>\n",
       "  <tbody>\n",
       "    <tr>\n",
       "      <th>count</th>\n",
       "      <td>1.898000e+03</td>\n",
       "      <td>1898.000000</td>\n",
       "      <td>1898.000000</td>\n",
       "      <td>1898.000000</td>\n",
       "      <td>1898.000000</td>\n",
       "    </tr>\n",
       "    <tr>\n",
       "      <th>mean</th>\n",
       "      <td>1.477496e+06</td>\n",
       "      <td>171168.478398</td>\n",
       "      <td>16.498851</td>\n",
       "      <td>27.371970</td>\n",
       "      <td>24.161749</td>\n",
       "    </tr>\n",
       "    <tr>\n",
       "      <th>std</th>\n",
       "      <td>5.480497e+02</td>\n",
       "      <td>113698.139743</td>\n",
       "      <td>7.483812</td>\n",
       "      <td>4.632481</td>\n",
       "      <td>4.972637</td>\n",
       "    </tr>\n",
       "    <tr>\n",
       "      <th>min</th>\n",
       "      <td>1.476547e+06</td>\n",
       "      <td>1311.000000</td>\n",
       "      <td>4.470000</td>\n",
       "      <td>20.000000</td>\n",
       "      <td>15.000000</td>\n",
       "    </tr>\n",
       "    <tr>\n",
       "      <th>25%</th>\n",
       "      <td>1.477021e+06</td>\n",
       "      <td>77787.750000</td>\n",
       "      <td>12.080000</td>\n",
       "      <td>23.000000</td>\n",
       "      <td>20.000000</td>\n",
       "    </tr>\n",
       "    <tr>\n",
       "      <th>50%</th>\n",
       "      <td>1.477496e+06</td>\n",
       "      <td>128600.000000</td>\n",
       "      <td>14.140000</td>\n",
       "      <td>27.000000</td>\n",
       "      <td>25.000000</td>\n",
       "    </tr>\n",
       "    <tr>\n",
       "      <th>75%</th>\n",
       "      <td>1.477970e+06</td>\n",
       "      <td>270525.000000</td>\n",
       "      <td>22.297500</td>\n",
       "      <td>31.000000</td>\n",
       "      <td>28.000000</td>\n",
       "    </tr>\n",
       "    <tr>\n",
       "      <th>max</th>\n",
       "      <td>1.478444e+06</td>\n",
       "      <td>405334.000000</td>\n",
       "      <td>35.410000</td>\n",
       "      <td>35.000000</td>\n",
       "      <td>33.000000</td>\n",
       "    </tr>\n",
       "  </tbody>\n",
       "</table>\n",
       "</div>"
      ],
      "text/plain": [
       "           order_id    customer_id  cost_of_the_order  food_preparation_time  \\\n",
       "count  1.898000e+03    1898.000000        1898.000000            1898.000000   \n",
       "mean   1.477496e+06  171168.478398          16.498851              27.371970   \n",
       "std    5.480497e+02  113698.139743           7.483812               4.632481   \n",
       "min    1.476547e+06    1311.000000           4.470000              20.000000   \n",
       "25%    1.477021e+06   77787.750000          12.080000              23.000000   \n",
       "50%    1.477496e+06  128600.000000          14.140000              27.000000   \n",
       "75%    1.477970e+06  270525.000000          22.297500              31.000000   \n",
       "max    1.478444e+06  405334.000000          35.410000              35.000000   \n",
       "\n",
       "       delivery_time  \n",
       "count    1898.000000  \n",
       "mean       24.161749  \n",
       "std         4.972637  \n",
       "min        15.000000  \n",
       "25%        20.000000  \n",
       "50%        25.000000  \n",
       "75%        28.000000  \n",
       "max        33.000000  "
      ]
     },
     "execution_count": 10,
     "metadata": {},
     "output_type": "execute_result"
    }
   ],
   "source": [
    "# to get summary statistics of numerical data\n",
    "df.describe()"
   ]
  },
  {
   "cell_type": "markdown",
   "metadata": {
    "id": "9YbSOR5wJY_T"
   },
   "source": [
    "#### Observations:\n",
    "- Order ID and Customer ID are identifiers for  each order.\n",
    "- The cost of and order ranges from 4.47 to 35.41 dollars, with an average order costing around 16 dollars, standard deviation of 7.5 dollars. The cost of 75% of the orders are below 23 dollars. This indicates that the most of the customers prefer low-cost food compated to the expensive ones.\n",
    "- Food preparation time ranges from 20 to 35 min, with an average of around 27 min and standard deviation of 4.6 min.\n",
    "- Delivery time ranges from 15 to 33 minutes, with an average of around 24 minutes and standard deviation of 5 min.\n"
   ]
  },
  {
   "cell_type": "code",
   "execution_count": 11,
   "metadata": {},
   "outputs": [
    {
     "data": {
      "text/html": [
       "<div>\n",
       "<style scoped>\n",
       "    .dataframe tbody tr th:only-of-type {\n",
       "        vertical-align: middle;\n",
       "    }\n",
       "\n",
       "    .dataframe tbody tr th {\n",
       "        vertical-align: top;\n",
       "    }\n",
       "\n",
       "    .dataframe thead th {\n",
       "        text-align: right;\n",
       "    }\n",
       "</style>\n",
       "<table border=\"1\" class=\"dataframe\">\n",
       "  <thead>\n",
       "    <tr style=\"text-align: right;\">\n",
       "      <th></th>\n",
       "      <th>order_id</th>\n",
       "      <th>customer_id</th>\n",
       "      <th>restaurant_name</th>\n",
       "      <th>cuisine_type</th>\n",
       "      <th>cost_of_the_order</th>\n",
       "      <th>day_of_the_week</th>\n",
       "      <th>rating</th>\n",
       "      <th>food_preparation_time</th>\n",
       "      <th>delivery_time</th>\n",
       "    </tr>\n",
       "  </thead>\n",
       "  <tbody>\n",
       "    <tr>\n",
       "      <th>count</th>\n",
       "      <td>1.898000e+03</td>\n",
       "      <td>1898.000000</td>\n",
       "      <td>1898</td>\n",
       "      <td>1898</td>\n",
       "      <td>1898.000000</td>\n",
       "      <td>1898</td>\n",
       "      <td>1898</td>\n",
       "      <td>1898.000000</td>\n",
       "      <td>1898.000000</td>\n",
       "    </tr>\n",
       "    <tr>\n",
       "      <th>unique</th>\n",
       "      <td>NaN</td>\n",
       "      <td>NaN</td>\n",
       "      <td>178</td>\n",
       "      <td>14</td>\n",
       "      <td>NaN</td>\n",
       "      <td>2</td>\n",
       "      <td>4</td>\n",
       "      <td>NaN</td>\n",
       "      <td>NaN</td>\n",
       "    </tr>\n",
       "    <tr>\n",
       "      <th>top</th>\n",
       "      <td>NaN</td>\n",
       "      <td>NaN</td>\n",
       "      <td>Shake Shack</td>\n",
       "      <td>American</td>\n",
       "      <td>NaN</td>\n",
       "      <td>Weekend</td>\n",
       "      <td>Not given</td>\n",
       "      <td>NaN</td>\n",
       "      <td>NaN</td>\n",
       "    </tr>\n",
       "    <tr>\n",
       "      <th>freq</th>\n",
       "      <td>NaN</td>\n",
       "      <td>NaN</td>\n",
       "      <td>219</td>\n",
       "      <td>584</td>\n",
       "      <td>NaN</td>\n",
       "      <td>1351</td>\n",
       "      <td>736</td>\n",
       "      <td>NaN</td>\n",
       "      <td>NaN</td>\n",
       "    </tr>\n",
       "    <tr>\n",
       "      <th>mean</th>\n",
       "      <td>1.477496e+06</td>\n",
       "      <td>171168.478398</td>\n",
       "      <td>NaN</td>\n",
       "      <td>NaN</td>\n",
       "      <td>16.498851</td>\n",
       "      <td>NaN</td>\n",
       "      <td>NaN</td>\n",
       "      <td>27.371970</td>\n",
       "      <td>24.161749</td>\n",
       "    </tr>\n",
       "    <tr>\n",
       "      <th>std</th>\n",
       "      <td>5.480497e+02</td>\n",
       "      <td>113698.139743</td>\n",
       "      <td>NaN</td>\n",
       "      <td>NaN</td>\n",
       "      <td>7.483812</td>\n",
       "      <td>NaN</td>\n",
       "      <td>NaN</td>\n",
       "      <td>4.632481</td>\n",
       "      <td>4.972637</td>\n",
       "    </tr>\n",
       "    <tr>\n",
       "      <th>min</th>\n",
       "      <td>1.476547e+06</td>\n",
       "      <td>1311.000000</td>\n",
       "      <td>NaN</td>\n",
       "      <td>NaN</td>\n",
       "      <td>4.470000</td>\n",
       "      <td>NaN</td>\n",
       "      <td>NaN</td>\n",
       "      <td>20.000000</td>\n",
       "      <td>15.000000</td>\n",
       "    </tr>\n",
       "    <tr>\n",
       "      <th>25%</th>\n",
       "      <td>1.477021e+06</td>\n",
       "      <td>77787.750000</td>\n",
       "      <td>NaN</td>\n",
       "      <td>NaN</td>\n",
       "      <td>12.080000</td>\n",
       "      <td>NaN</td>\n",
       "      <td>NaN</td>\n",
       "      <td>23.000000</td>\n",
       "      <td>20.000000</td>\n",
       "    </tr>\n",
       "    <tr>\n",
       "      <th>50%</th>\n",
       "      <td>1.477496e+06</td>\n",
       "      <td>128600.000000</td>\n",
       "      <td>NaN</td>\n",
       "      <td>NaN</td>\n",
       "      <td>14.140000</td>\n",
       "      <td>NaN</td>\n",
       "      <td>NaN</td>\n",
       "      <td>27.000000</td>\n",
       "      <td>25.000000</td>\n",
       "    </tr>\n",
       "    <tr>\n",
       "      <th>75%</th>\n",
       "      <td>1.477970e+06</td>\n",
       "      <td>270525.000000</td>\n",
       "      <td>NaN</td>\n",
       "      <td>NaN</td>\n",
       "      <td>22.297500</td>\n",
       "      <td>NaN</td>\n",
       "      <td>NaN</td>\n",
       "      <td>31.000000</td>\n",
       "      <td>28.000000</td>\n",
       "    </tr>\n",
       "    <tr>\n",
       "      <th>max</th>\n",
       "      <td>1.478444e+06</td>\n",
       "      <td>405334.000000</td>\n",
       "      <td>NaN</td>\n",
       "      <td>NaN</td>\n",
       "      <td>35.410000</td>\n",
       "      <td>NaN</td>\n",
       "      <td>NaN</td>\n",
       "      <td>35.000000</td>\n",
       "      <td>33.000000</td>\n",
       "    </tr>\n",
       "  </tbody>\n",
       "</table>\n",
       "</div>"
      ],
      "text/plain": [
       "            order_id    customer_id restaurant_name cuisine_type  \\\n",
       "count   1.898000e+03    1898.000000            1898         1898   \n",
       "unique           NaN            NaN             178           14   \n",
       "top              NaN            NaN     Shake Shack     American   \n",
       "freq             NaN            NaN             219          584   \n",
       "mean    1.477496e+06  171168.478398             NaN          NaN   \n",
       "std     5.480497e+02  113698.139743             NaN          NaN   \n",
       "min     1.476547e+06    1311.000000             NaN          NaN   \n",
       "25%     1.477021e+06   77787.750000             NaN          NaN   \n",
       "50%     1.477496e+06  128600.000000             NaN          NaN   \n",
       "75%     1.477970e+06  270525.000000             NaN          NaN   \n",
       "max     1.478444e+06  405334.000000             NaN          NaN   \n",
       "\n",
       "        cost_of_the_order day_of_the_week     rating  food_preparation_time  \\\n",
       "count         1898.000000            1898       1898            1898.000000   \n",
       "unique                NaN               2          4                    NaN   \n",
       "top                   NaN         Weekend  Not given                    NaN   \n",
       "freq                  NaN            1351        736                    NaN   \n",
       "mean            16.498851             NaN        NaN              27.371970   \n",
       "std              7.483812             NaN        NaN               4.632481   \n",
       "min              4.470000             NaN        NaN              20.000000   \n",
       "25%             12.080000             NaN        NaN              23.000000   \n",
       "50%             14.140000             NaN        NaN              27.000000   \n",
       "75%             22.297500             NaN        NaN              31.000000   \n",
       "max             35.410000             NaN        NaN              35.000000   \n",
       "\n",
       "        delivery_time  \n",
       "count     1898.000000  \n",
       "unique            NaN  \n",
       "top               NaN  \n",
       "freq              NaN  \n",
       "mean        24.161749  \n",
       "std          4.972637  \n",
       "min         15.000000  \n",
       "25%         20.000000  \n",
       "50%         25.000000  \n",
       "75%         28.000000  \n",
       "max         33.000000  "
      ]
     },
     "execution_count": 11,
     "metadata": {},
     "output_type": "execute_result"
    }
   ],
   "source": [
    "# to get summary statistics of all data\n",
    "df.describe(include='all')"
   ]
  },
  {
   "cell_type": "markdown",
   "metadata": {
    "id": "cw3l58z_JY_T"
   },
   "source": [
    "### **Question 5:** How many orders are not rated? [1 mark]"
   ]
  },
  {
   "cell_type": "code",
   "execution_count": 16,
   "metadata": {
    "id": "hEzDUL9wgksi"
   },
   "outputs": [
    {
     "data": {
      "text/plain": [
       "Not given    736\n",
       "5            588\n",
       "4            386\n",
       "3            188\n",
       "Name: rating, dtype: int64"
      ]
     },
     "execution_count": 16,
     "metadata": {},
     "output_type": "execute_result"
    }
   ],
   "source": [
    "#to find not given rating count\n",
    "df['rating'].value_counts()"
   ]
  },
  {
   "cell_type": "markdown",
   "metadata": {
    "id": "5E0O_oviJY_T"
   },
   "source": [
    "#### Observations:\n",
    "- 736 ratings ara not rated by customers."
   ]
  },
  {
   "cell_type": "markdown",
   "metadata": {
    "id": "7msIfXE-JY_T"
   },
   "source": [
    "### Exploratory Data Analysis (EDA)"
   ]
  },
  {
   "cell_type": "markdown",
   "metadata": {
    "id": "-2xfI28YJY_T"
   },
   "source": [
    "### Univariate Analysis"
   ]
  },
  {
   "cell_type": "markdown",
   "metadata": {
    "id": "0RHZnugBJY_U"
   },
   "source": [
    "### **Question 6:** Explore all the variables and provide observations on their distributions. (Generally, histograms, boxplots, countplots, etc. are used for univariate exploration.) [9 marks]"
   ]
  },
  {
   "cell_type": "code",
   "execution_count": 19,
   "metadata": {
    "id": "rU5ZqISjJY_U"
   },
   "outputs": [
    {
     "data": {
      "text/plain": [
       "1898"
      ]
     },
     "execution_count": 19,
     "metadata": {},
     "output_type": "execute_result"
    }
   ],
   "source": [
    "# to check unique order ID\n",
    "df['order_id'].nunique()\n"
   ]
  },
  {
   "cell_type": "markdown",
   "metadata": {},
   "source": [
    "- There are 1898 different orders"
   ]
  },
  {
   "cell_type": "code",
   "execution_count": 20,
   "metadata": {},
   "outputs": [
    {
     "data": {
      "text/plain": [
       "1200"
      ]
     },
     "execution_count": 20,
     "metadata": {},
     "output_type": "execute_result"
    }
   ],
   "source": [
    "# to check unique customer_id\n",
    "df['customer_id'].nunique()"
   ]
  },
  {
   "cell_type": "markdown",
   "metadata": {},
   "source": [
    "- There are 1200 different customer. That's mean some of the customers place order more than once."
   ]
  },
  {
   "cell_type": "code",
   "execution_count": 21,
   "metadata": {},
   "outputs": [
    {
     "data": {
      "text/plain": [
       "178"
      ]
     },
     "execution_count": 21,
     "metadata": {},
     "output_type": "execute_result"
    }
   ],
   "source": [
    "# to check unique restorant names\n",
    "df['restaurant_name'].nunique()"
   ]
  },
  {
   "cell_type": "markdown",
   "metadata": {},
   "source": [
    "- There are 178 different restaurants in this dataset."
   ]
  },
  {
   "cell_type": "code",
   "execution_count": 22,
   "metadata": {},
   "outputs": [
    {
     "data": {
      "text/plain": [
       "14"
      ]
     },
     "execution_count": 22,
     "metadata": {},
     "output_type": "execute_result"
    }
   ],
   "source": [
    "# to check the cuisine types\n",
    "df['cuisine_type'].nunique()"
   ]
  },
  {
   "cell_type": "markdown",
   "metadata": {},
   "source": [
    "- There are 14 different cuisine types in this dataset."
   ]
  },
  {
   "cell_type": "code",
   "execution_count": 26,
   "metadata": {},
   "outputs": [
    {
     "data": {
      "image/png": "[encoded data removed]",
      "text/plain": [
       "<Figure size 1080x360 with 1 Axes>"
      ]
     },
     "metadata": {
      "needs_background": "light"
     },
     "output_type": "display_data"
    }
   ],
   "source": [
    "# to see the cuisine types on countplot using visualzation.\n",
    "plt.figure(figsize=(15,5))\n",
    "sns.countplot(data=df, x='cuisine_type');"
   ]
  },
  {
   "cell_type": "markdown",
   "metadata": {},
   "source": [
    "- The most frequent cuisine type is American followed by Japanese, Italian and Chinese.\n",
    "- The least popular one is Vietnamese type of cuisine.\n"
   ]
  },
  {
   "cell_type": "code",
   "execution_count": 29,
   "metadata": {},
   "outputs": [
    {
     "data": {
      "image/png": "[encoded data removed]",
      "text/plain": [
       "<Figure size 432x288 with 1 Axes>"
      ]
     },
     "metadata": {
      "needs_background": "light"
     },
     "output_type": "display_data"
    },
    {
     "data": {
      "image/png": "[encoded data removed]",
      "text/plain": [
       "<Figure size 432x288 with 1 Axes>"
      ]
     },
     "metadata": {
      "needs_background": "light"
     },
     "output_type": "display_data"
    }
   ],
   "source": [
    "#to see the cost of orders using visualzation\n",
    "sns.histplot(data=df, x='cost_of_the_order')\n",
    "plt.show()\n",
    "sns.boxplot(data=df, x='cost_of_the_order')\n",
    "plt.show()"
   ]
  },
  {
   "cell_type": "markdown",
   "metadata": {},
   "source": [
    "- The avarage cost of the order is greater that the median cost indicating that the distribution for the order is right-skewed.\n",
    "- The mode of the distribution indicates that a large number of custumers prefer to order food costs around 10-12 dollars.\n",
    "- There are a few orders that costs grater than 30 dollars. "
   ]
  },
  {
   "cell_type": "code",
   "execution_count": 31,
   "metadata": {},
   "outputs": [
    {
     "data": {
      "text/plain": [
       "Weekend    1351\n",
       "Weekday     547\n",
       "Name: day_of_the_week, dtype: int64"
      ]
     },
     "execution_count": 31,
     "metadata": {},
     "output_type": "execute_result"
    }
   ],
   "source": [
    "# to check the unique values of day_of _the_week columns\n",
    "df['day_of_the_week'].value_counts()"
   ]
  },
  {
   "cell_type": "code",
   "execution_count": 33,
   "metadata": {},
   "outputs": [
    {
     "data": {
      "image/png": "[encoded data removed]",
      "text/plain": [
       "<Figure size 432x288 with 1 Axes>"
      ]
     },
     "metadata": {
      "needs_background": "light"
     },
     "output_type": "display_data"
    }
   ],
   "source": [
    "sns.countplot(data=df, x='day_of_the_week')\n",
    "plt.show()"
   ]
  },
  {
   "cell_type": "markdown",
   "metadata": {},
   "source": [
    "- The 'day_of_the_week' columns consists of 2 unique values - Weekend and Weekday\n",
    "- The distrubution shows that number of the order placed on Weekends is approx. more double the number of the order placed on weekday."
   ]
  },
  {
   "cell_type": "code",
   "execution_count": 34,
   "metadata": {},
   "outputs": [
    {
     "data": {
      "text/plain": [
       "Not given    736\n",
       "5            588\n",
       "4            386\n",
       "3            188\n",
       "Name: rating, dtype: int64"
      ]
     },
     "execution_count": 34,
     "metadata": {},
     "output_type": "execute_result"
    }
   ],
   "source": [
    "# to check the unique values of rating columns\n",
    "df['rating'].value_counts()"
   ]
  },
  {
   "cell_type": "code",
   "execution_count": 35,
   "metadata": {},
   "outputs": [
    {
     "data": {
      "image/png": "[encoded data removed]",
      "text/plain": [
       "<Figure size 432x288 with 1 Axes>"
      ]
     },
     "metadata": {
      "needs_background": "light"
     },
     "output_type": "display_data"
    }
   ],
   "source": [
    "sns.countplot(data=df,x='rating')\n",
    "plt.show()"
   ]
  },
  {
   "cell_type": "markdown",
   "metadata": {},
   "source": [
    "- Most frequent rating is 'Not given',followed by a rating of 5, 4, 3"
   ]
  },
  {
   "cell_type": "code",
   "execution_count": 36,
   "metadata": {},
   "outputs": [
    {
     "data": {
      "image/png": "[encoded data removed]",
      "text/plain": [
       "<Figure size 432x288 with 1 Axes>"
      ]
     },
     "metadata": {
      "needs_background": "light"
     },
     "output_type": "display_data"
    },
    {
     "data": {
      "image/png": "[encoded data removed]",
      "text/plain": [
       "<Figure size 432x288 with 1 Axes>"
      ]
     },
     "metadata": {
      "needs_background": "light"
     },
     "output_type": "display_data"
    }
   ],
   "source": [
    "#to see the food preparetion time of orders using visualzation\n",
    "sns.histplot(data=df, x='food_preparation_time')\n",
    "plt.show()\n",
    "sns.boxplot(data=df, x='food_preparation_time')\n",
    "plt.show()"
   ]
  },
  {
   "cell_type": "markdown",
   "metadata": {},
   "source": [
    "- The food preparation time is pretty evenly distributed between 20 and 35 min\n",
    "- There is no outliers in this column."
   ]
  },
  {
   "cell_type": "code",
   "execution_count": 37,
   "metadata": {},
   "outputs": [
    {
     "data": {
      "image/png": "[encoded data removed]",
      "text/plain": [
       "<Figure size 432x288 with 1 Axes>"
      ]
     },
     "metadata": {
      "needs_background": "light"
     },
     "output_type": "display_data"
    },
    {
     "data": {
      "image/png": "[encoded data removed]",
      "text/plain": [
       "<Figure size 432x288 with 1 Axes>"
      ]
     },
     "metadata": {
      "needs_background": "light"
     },
     "output_type": "display_data"
    }
   ],
   "source": [
    "#to see the delivery time of orders using visualzation\n",
    "sns.histplot(data=df,x='delivery_time') \n",
    "plt.show()\n",
    "sns.boxplot(data=df,x='delivery_time') \n",
    "plt.show()"
   ]
  },
  {
   "cell_type": "markdown",
   "metadata": {},
   "source": [
    "- More number of orders have delivery time between 25 and 30 min.\n",
    "- There are no outlier in this column."
   ]
  },
  {
   "cell_type": "markdown",
   "metadata": {
    "id": "K9CqA5H_JY_U"
   },
   "source": [
    "### **Question 7**: Which are the top 5 restaurants in terms of the number of orders received? [1 mark]"
   ]
  },
  {
   "cell_type": "code",
   "execution_count": 42,
   "metadata": {
    "id": "PaJZ3wlOJY_U"
   },
   "outputs": [
    {
     "data": {
      "text/plain": [
       "Shake Shack                  219\n",
       "The Meatball Shop            132\n",
       "Blue Ribbon Sushi            119\n",
       "Blue Ribbon Fried Chicken     96\n",
       "Parm                          68\n",
       "Name: restaurant_name, dtype: int64"
      ]
     },
     "execution_count": 42,
     "metadata": {},
     "output_type": "execute_result"
    }
   ],
   "source": [
    "# Get top 5 restaurants with highest number of orders\n",
    "df['restaurant_name'].value_counts()[:5]"
   ]
  },
  {
   "cell_type": "markdown",
   "metadata": {
    "id": "tnjhWgUfJY_U"
   },
   "source": [
    "#### Observations: \n",
    "- Top 5 restaurants in terms of the number of orders received is above\n"
   ]
  },
  {
   "cell_type": "markdown",
   "metadata": {
    "id": "gWPMqGq0JY_U"
   },
   "source": [
    "### **Question 8**: Which is the most popular cuisine on weekends? [1 mark]"
   ]
  },
  {
   "cell_type": "code",
   "execution_count": 46,
   "metadata": {
    "id": "c-Xnus3VJY_U"
   },
   "outputs": [
    {
     "data": {
      "text/plain": [
       "American    415\n",
       "Name: cuisine_type, dtype: int64"
      ]
     },
     "execution_count": 46,
     "metadata": {},
     "output_type": "execute_result"
    }
   ],
   "source": [
    "# Get most popular cuisine on Weekends\n",
    "df[df['day_of_the_week']=='Weekend']['cuisine_type'].value_counts()[:1]"
   ]
  },
  {
   "cell_type": "markdown",
   "metadata": {
    "id": "bpQ270TUJY_U"
   },
   "source": [
    "#### Observations:\n",
    "- American cuisine is the most popular cuisine on weekends\n"
   ]
  },
  {
   "cell_type": "markdown",
   "metadata": {
    "id": "88xgTqkxJY_U"
   },
   "source": [
    "### **Question 9**: What percentage of the orders cost more than 20 dollars? [2 marks]"
   ]
  },
  {
   "cell_type": "code",
   "execution_count": 47,
   "metadata": {
    "id": "OTpHyTdzJY_U"
   },
   "outputs": [
    {
     "name": "stdout",
     "output_type": "stream",
     "text": [
      "The number of total orders that cost above 20 dollars is: 555\n",
      "Percentage of orders above 20 dollars: 29.24 %\n"
     ]
    }
   ],
   "source": [
    "# To get orders that cost more than 20 dollars\n",
    "df_greater_than_20 = df[df['cost_of_the_order']>20] \n",
    "\n",
    "print('The number of total orders that cost above 20 dollars is:', df_greater_than_20.shape[0])\n",
    "\n",
    "# calculate the percentage\n",
    "percentage = (df_greater_than_20.shape[0] / df.shape[0]) * 100\n",
    "\n",
    "print(\"Percentage of orders above 20 dollars:\", round(percentage, 2), '%')"
   ]
  },
  {
   "cell_type": "markdown",
   "metadata": {
    "id": "77KNAC5zJY_U"
   },
   "source": [
    "#### Observations:\n",
    "- There are a total orders that cost above $20 is : 555\n",
    "- Percentage of orders above  20 dollars : 29.24 %\n"
   ]
  },
  {
   "cell_type": "markdown",
   "metadata": {
    "id": "HFyHn7hsJY_V"
   },
   "source": [
    "### **Question 10**: What is the mean order delivery time? [1 mark]"
   ]
  },
  {
   "cell_type": "code",
   "execution_count": 49,
   "metadata": {
    "id": "cyFL13hNJY_V"
   },
   "outputs": [
    {
     "data": {
      "text/plain": [
       "24.161749209694417"
      ]
     },
     "execution_count": 49,
     "metadata": {},
     "output_type": "execute_result"
    }
   ],
   "source": [
    "# to get the mean delivery time\n",
    "df['delivery_time'].mean()"
   ]
  },
  {
   "cell_type": "markdown",
   "metadata": {
    "id": "F35SRV-HJY_V"
   },
   "source": [
    "#### Observations:\n",
    "- The avarage delivery time is 24.16 minutes."
   ]
  },
  {
   "cell_type": "markdown",
   "metadata": {
    "id": "48IjaOuDJY_V"
   },
   "source": [
    "### **Question 11:** The company has decided to give 20% discount vouchers to the top 3 most frequent customers. Find the IDs of these customers and the number of orders they placed. [1 mark]"
   ]
  },
  {
   "cell_type": "code",
   "execution_count": 50,
   "metadata": {
    "id": "Hz8-DE4Zge0j"
   },
   "outputs": [
    {
     "data": {
      "text/plain": [
       "52832    13\n",
       "47440    10\n",
       "83287     9\n",
       "Name: customer_id, dtype: int64"
      ]
     },
     "execution_count": 50,
     "metadata": {},
     "output_type": "execute_result"
    }
   ],
   "source": [
    "# to find the top 3 most frequent customers\n",
    "df['customer_id'].value_counts()[:3]"
   ]
  },
  {
   "cell_type": "markdown",
   "metadata": {
    "id": "9tWVwfX6JY_V"
   },
   "source": [
    "#### Observations:\n",
    "- These 3 customers are top 3 most frequent customers"
   ]
  },
  {
   "cell_type": "markdown",
   "metadata": {
    "id": "AfIc2jPaJY_V"
   },
   "source": [
    "### Multivariate Analysis"
   ]
  },
  {
   "cell_type": "markdown",
   "metadata": {
    "id": "iqiS0RT_JY_V"
   },
   "source": [
    "### **Question 12**: Perform a multivariate analysis to explore relationships between the important variables in the dataset. (It is a good idea to explore relations between numerical variables as well as relations between numerical and categorical variables) [10 marks]\n"
   ]
  },
  {
   "cell_type": "code",
   "execution_count": 51,
   "metadata": {
    "id": "3qt4MCNTJY_V"
   },
   "outputs": [
    {
     "data": {
      "image/png": "[encoded data removed]",
      "text/plain": [
       "<Figure size 1080x504 with 1 Axes>"
      ]
     },
     "metadata": {
      "needs_background": "light"
     },
     "output_type": "display_data"
    }
   ],
   "source": [
    "# Relationship between Cost of the order and cuisine type\n",
    "plt.figure(figsize=(15,7))\n",
    "sns.boxplot(x = \"cuisine_type\", y = \"cost_of_the_order\", data = df, palette = 'PuBu')\n",
    "plt.xticks(rotation = 60)\n",
    "plt.show()"
   ]
  },
  {
   "cell_type": "markdown",
   "metadata": {},
   "source": [
    "- Korean and Vietnamese cuisines cost less compated to other cuisines\n",
    "- Some outliers present for the cost of Korean, Mediterranean and Vietnamese cuisines\n",
    "- French and Spanish cuisines are expensive compared to the other cuisines base costs."
   ]
  },
  {
   "cell_type": "code",
   "execution_count": null,
   "metadata": {},
   "outputs": [],
   "source": [
    "plt.figure(figsize=(15,7))\n",
    "sns.boxplot(x = \"delivery_time\", y = \"day_of_the_week\", data = df, palette = 'PuBu') \n",
    "plt.show()"
   ]
  },
  {
   "cell_type": "code",
   "execution_count": 53,
   "metadata": {},
   "outputs": [
    {
     "data": {
      "image/png": "[encoded data removed]",
      "text/plain": [
       "<Figure size 1080x504 with 1 Axes>"
      ]
     },
     "metadata": {
      "needs_background": "light"
     },
     "output_type": "display_data"
    }
   ],
   "source": [
    "# Relationship between delivery_time and day_of_the_week columns\n",
    "plt.figure(figsize=(15,7))\n",
    "sns.boxplot(x = \"delivery_time\", y = \"day_of_the_week\", data = df, palette = 'PuBu') \n",
    "plt.show()"
   ]
  },
  {
   "cell_type": "markdown",
   "metadata": {},
   "source": [
    "- Weekends orders deliver faster than weekdays.\n",
    "- Approx 75% of Weekends orders deliver less than 26 minutes. "
   ]
  },
  {
   "cell_type": "code",
   "execution_count": 66,
   "metadata": {},
   "outputs": [
    {
     "data": {
      "text/plain": [
       "restaurant_name\n",
       "Shake Shack                      3579.53\n",
       "The Meatball Shop                2145.21\n",
       "Blue Ribbon Sushi                1903.95\n",
       "Blue Ribbon Fried Chicken        1662.29\n",
       "Parm                             1112.76\n",
       "RedFarm Broadway                  965.13\n",
       "RedFarm Hudson                    921.21\n",
       "TAO                               834.50\n",
       "Han Dynasty                       755.29\n",
       "Blue Ribbon Sushi Bar & Grill     666.62\n",
       "Rubirosa                          660.45\n",
       "Sushi of Gari 46                  640.87\n",
       "Nobu Next Door                    623.67\n",
       "Five Guys Burgers and Fries       506.47\n",
       "Momoya                            492.13\n",
       "Name: cost_of_the_order, dtype: float64"
      ]
     },
     "execution_count": 66,
     "metadata": {},
     "output_type": "execute_result"
    }
   ],
   "source": [
    "# Revenue Generated by the Restaurants\n",
    "df.groupby(['restaurant_name'])['cost_of_the_order'].sum().sort_values(ascending= False).head(15)"
   ]
  },
  {
   "cell_type": "markdown",
   "metadata": {},
   "source": [
    "- The above 14 restaurants aregenerating more than 500 dollars revenue."
   ]
  },
  {
   "cell_type": "code",
   "execution_count": 67,
   "metadata": {},
   "outputs": [
    {
     "data": {
      "image/png": "[encoded data removed]",
      "text/plain": [
       "<Figure size 1080x504 with 2 Axes>"
      ]
     },
     "metadata": {
      "needs_background": "light"
     },
     "output_type": "display_data"
    }
   ],
   "source": [
    "col_list = ['cost_of_the_order', 'food_preparation_time', 'delivery_time']\n",
    "plt.figure(figsize=(15, 7))\n",
    "sns.heatmap(df[col_list].corr(), annot=True, vmin=-1, vmax=1, fmt=\".2f\", cmap=\"Spectral\")\n",
    "plt.show()"
   ]
  },
  {
   "cell_type": "code",
   "execution_count": 68,
   "metadata": {},
   "outputs": [
    {
     "data": {
      "image/png": "[encoded data removed]",
      "text/plain": [
       "<Figure size 1080x504 with 2 Axes>"
      ]
     },
     "metadata": {
      "needs_background": "light"
     },
     "output_type": "display_data"
    }
   ],
   "source": [
    "plt.figure(figsize=(15, 7))\n",
    "sns.heatmap(df.corr(), annot=True, vmin=-1, vmax=1, fmt=\".2f\", cmap=\"Spectral\")\n",
    "plt.show()"
   ]
  },
  {
   "cell_type": "code",
   "execution_count": 69,
   "metadata": {},
   "outputs": [
    {
     "data": {
      "image/png": "[encoded data removed]",
      "text/plain": [
       "<Figure size 1080x504 with 1 Axes>"
      ]
     },
     "metadata": {
      "needs_background": "light"
     },
     "output_type": "display_data"
    }
   ],
   "source": [
    "plt.figure(figsize=(15, 7))\n",
    "sns.pointplot(x = 'rating', y = 'delivery_time', data = df)\n",
    "plt.show()"
   ]
  },
  {
   "cell_type": "code",
   "execution_count": 70,
   "metadata": {},
   "outputs": [
    {
     "data": {
      "image/png": "[encoded data removed]",
      "text/plain": [
       "<Figure size 1080x504 with 1 Axes>"
      ]
     },
     "metadata": {
      "needs_background": "light"
     },
     "output_type": "display_data"
    }
   ],
   "source": [
    "plt.figure(figsize=(15, 7))\n",
    "sns.pointplot(x = 'rating', y = 'cost_of_the_order', data = df)\n",
    "plt.show()"
   ]
  },
  {
   "cell_type": "markdown",
   "metadata": {},
   "source": [
    "- It seems delivery time and cost of the order play a slight role in low rating of the orders."
   ]
  },
  {
   "cell_type": "markdown",
   "metadata": {
    "id": "YLkMf09YJY_V"
   },
   "source": [
    "### **Question 13:** The company wants to provide a promotional offer in the advertisement of the restaurants. The condition to get the offer is that the restaurants must have a rating count of more than 50 and the average rating should be greater than 4. Find the restaurants fulfilling the criteria to get the promotional offer. [3 marks]"
   ]
  },
  {
   "cell_type": "code",
   "execution_count": 75,
   "metadata": {
    "id": "0M_QDvbYJY_V"
   },
   "outputs": [
    {
     "data": {
      "text/html": [
       "<div>\n",
       "<style scoped>\n",
       "    .dataframe tbody tr th:only-of-type {\n",
       "        vertical-align: middle;\n",
       "    }\n",
       "\n",
       "    .dataframe tbody tr th {\n",
       "        vertical-align: top;\n",
       "    }\n",
       "\n",
       "    .dataframe thead th {\n",
       "        text-align: right;\n",
       "    }\n",
       "</style>\n",
       "<table border=\"1\" class=\"dataframe\">\n",
       "  <thead>\n",
       "    <tr style=\"text-align: right;\">\n",
       "      <th></th>\n",
       "      <th>restaurant_name</th>\n",
       "      <th>rating</th>\n",
       "    </tr>\n",
       "  </thead>\n",
       "  <tbody>\n",
       "    <tr>\n",
       "      <th>0</th>\n",
       "      <td>Shake Shack</td>\n",
       "      <td>133</td>\n",
       "    </tr>\n",
       "    <tr>\n",
       "      <th>1</th>\n",
       "      <td>The Meatball Shop</td>\n",
       "      <td>84</td>\n",
       "    </tr>\n",
       "    <tr>\n",
       "      <th>2</th>\n",
       "      <td>Blue Ribbon Sushi</td>\n",
       "      <td>73</td>\n",
       "    </tr>\n",
       "    <tr>\n",
       "      <th>3</th>\n",
       "      <td>Blue Ribbon Fried Chicken</td>\n",
       "      <td>64</td>\n",
       "    </tr>\n",
       "    <tr>\n",
       "      <th>4</th>\n",
       "      <td>RedFarm Broadway</td>\n",
       "      <td>41</td>\n",
       "    </tr>\n",
       "  </tbody>\n",
       "</table>\n",
       "</div>"
      ],
      "text/plain": [
       "             restaurant_name  rating\n",
       "0                Shake Shack     133\n",
       "1          The Meatball Shop      84\n",
       "2          Blue Ribbon Sushi      73\n",
       "3  Blue Ribbon Fried Chicken      64\n",
       "4           RedFarm Broadway      41"
      ]
     },
     "execution_count": 75,
     "metadata": {},
     "output_type": "execute_result"
    }
   ],
   "source": [
    "# Filter the rated restaurants\n",
    "df_rated= df[df['rating'] != 'Not given'].copy()\n",
    "\n",
    "# Convert rating column from object to integer\n",
    "df_rated['rating'] = df_rated['rating'].astype('int')  \n",
    "\n",
    "# Create a dataframe that contains the restaurant names with their rating counts\n",
    "df_rating_count= df_rated.groupby(['restaurant_name'])['rating'].count().sort_values(ascending= False).reset_index()\n",
    "df_rating_count.head()"
   ]
  },
  {
   "cell_type": "code",
   "execution_count": 78,
   "metadata": {},
   "outputs": [
    {
     "data": {
      "text/plain": [
       "0                  Shake Shack\n",
       "1            The Meatball Shop\n",
       "2            Blue Ribbon Sushi\n",
       "3    Blue Ribbon Fried Chicken\n",
       "Name: restaurant_name, dtype: object"
      ]
     },
     "execution_count": 78,
     "metadata": {},
     "output_type": "execute_result"
    }
   ],
   "source": [
    "# Get the restaurant names that have rating count more than 50\n",
    "rest_names = df_rating_count[df_rating_count.rating>50]['restaurant_name'] ## Complete the code to get the restaurant names having rating count more than 50\n",
    "rest_names"
   ]
  },
  {
   "cell_type": "code",
   "execution_count": 80,
   "metadata": {},
   "outputs": [
    {
     "data": {
      "text/html": [
       "<div>\n",
       "<style scoped>\n",
       "    .dataframe tbody tr th:only-of-type {\n",
       "        vertical-align: middle;\n",
       "    }\n",
       "\n",
       "    .dataframe tbody tr th {\n",
       "        vertical-align: top;\n",
       "    }\n",
       "\n",
       "    .dataframe thead th {\n",
       "        text-align: right;\n",
       "    }\n",
       "</style>\n",
       "<table border=\"1\" class=\"dataframe\">\n",
       "  <thead>\n",
       "    <tr style=\"text-align: right;\">\n",
       "      <th></th>\n",
       "      <th>order_id</th>\n",
       "      <th>customer_id</th>\n",
       "      <th>restaurant_name</th>\n",
       "      <th>cuisine_type</th>\n",
       "      <th>cost_of_the_order</th>\n",
       "      <th>day_of_the_week</th>\n",
       "      <th>rating</th>\n",
       "      <th>food_preparation_time</th>\n",
       "      <th>delivery_time</th>\n",
       "    </tr>\n",
       "  </thead>\n",
       "  <tbody>\n",
       "    <tr>\n",
       "      <th>3</th>\n",
       "      <td>1477334</td>\n",
       "      <td>106968</td>\n",
       "      <td>Blue Ribbon Fried Chicken</td>\n",
       "      <td>American</td>\n",
       "      <td>29.20</td>\n",
       "      <td>Weekend</td>\n",
       "      <td>3</td>\n",
       "      <td>25</td>\n",
       "      <td>15</td>\n",
       "    </tr>\n",
       "    <tr>\n",
       "      <th>12</th>\n",
       "      <td>1476966</td>\n",
       "      <td>129969</td>\n",
       "      <td>Blue Ribbon Fried Chicken</td>\n",
       "      <td>American</td>\n",
       "      <td>24.30</td>\n",
       "      <td>Weekend</td>\n",
       "      <td>5</td>\n",
       "      <td>23</td>\n",
       "      <td>17</td>\n",
       "    </tr>\n",
       "    <tr>\n",
       "      <th>15</th>\n",
       "      <td>1477414</td>\n",
       "      <td>66222</td>\n",
       "      <td>Shake Shack</td>\n",
       "      <td>American</td>\n",
       "      <td>16.20</td>\n",
       "      <td>Weekend</td>\n",
       "      <td>5</td>\n",
       "      <td>33</td>\n",
       "      <td>25</td>\n",
       "    </tr>\n",
       "    <tr>\n",
       "      <th>19</th>\n",
       "      <td>1477354</td>\n",
       "      <td>67487</td>\n",
       "      <td>Blue Ribbon Sushi</td>\n",
       "      <td>Japanese</td>\n",
       "      <td>16.20</td>\n",
       "      <td>Weekend</td>\n",
       "      <td>4</td>\n",
       "      <td>35</td>\n",
       "      <td>26</td>\n",
       "    </tr>\n",
       "    <tr>\n",
       "      <th>22</th>\n",
       "      <td>1478287</td>\n",
       "      <td>150599</td>\n",
       "      <td>Shake Shack</td>\n",
       "      <td>American</td>\n",
       "      <td>29.10</td>\n",
       "      <td>Weekday</td>\n",
       "      <td>5</td>\n",
       "      <td>21</td>\n",
       "      <td>30</td>\n",
       "    </tr>\n",
       "    <tr>\n",
       "      <th>...</th>\n",
       "      <td>...</td>\n",
       "      <td>...</td>\n",
       "      <td>...</td>\n",
       "      <td>...</td>\n",
       "      <td>...</td>\n",
       "      <td>...</td>\n",
       "      <td>...</td>\n",
       "      <td>...</td>\n",
       "      <td>...</td>\n",
       "    </tr>\n",
       "    <tr>\n",
       "      <th>1880</th>\n",
       "      <td>1477466</td>\n",
       "      <td>222734</td>\n",
       "      <td>Shake Shack</td>\n",
       "      <td>American</td>\n",
       "      <td>13.97</td>\n",
       "      <td>Weekend</td>\n",
       "      <td>5</td>\n",
       "      <td>35</td>\n",
       "      <td>27</td>\n",
       "    </tr>\n",
       "    <tr>\n",
       "      <th>1884</th>\n",
       "      <td>1477437</td>\n",
       "      <td>304993</td>\n",
       "      <td>Shake Shack</td>\n",
       "      <td>American</td>\n",
       "      <td>31.43</td>\n",
       "      <td>Weekend</td>\n",
       "      <td>3</td>\n",
       "      <td>31</td>\n",
       "      <td>24</td>\n",
       "    </tr>\n",
       "    <tr>\n",
       "      <th>1885</th>\n",
       "      <td>1477550</td>\n",
       "      <td>97324</td>\n",
       "      <td>Shake Shack</td>\n",
       "      <td>American</td>\n",
       "      <td>29.05</td>\n",
       "      <td>Weekday</td>\n",
       "      <td>4</td>\n",
       "      <td>27</td>\n",
       "      <td>29</td>\n",
       "    </tr>\n",
       "    <tr>\n",
       "      <th>1886</th>\n",
       "      <td>1478277</td>\n",
       "      <td>48282</td>\n",
       "      <td>The Meatball Shop</td>\n",
       "      <td>American</td>\n",
       "      <td>14.50</td>\n",
       "      <td>Weekend</td>\n",
       "      <td>5</td>\n",
       "      <td>34</td>\n",
       "      <td>25</td>\n",
       "    </tr>\n",
       "    <tr>\n",
       "      <th>1888</th>\n",
       "      <td>1477353</td>\n",
       "      <td>106324</td>\n",
       "      <td>The Meatball Shop</td>\n",
       "      <td>Italian</td>\n",
       "      <td>16.20</td>\n",
       "      <td>Weekend</td>\n",
       "      <td>5</td>\n",
       "      <td>21</td>\n",
       "      <td>26</td>\n",
       "    </tr>\n",
       "  </tbody>\n",
       "</table>\n",
       "<p>354 rows × 9 columns</p>\n",
       "</div>"
      ],
      "text/plain": [
       "      order_id  customer_id            restaurant_name cuisine_type  \\\n",
       "3      1477334       106968  Blue Ribbon Fried Chicken     American   \n",
       "12     1476966       129969  Blue Ribbon Fried Chicken     American   \n",
       "15     1477414        66222                Shake Shack     American   \n",
       "19     1477354        67487          Blue Ribbon Sushi     Japanese   \n",
       "22     1478287       150599                Shake Shack     American   \n",
       "...        ...          ...                        ...          ...   \n",
       "1880   1477466       222734                Shake Shack     American   \n",
       "1884   1477437       304993                Shake Shack     American   \n",
       "1885   1477550        97324                Shake Shack     American   \n",
       "1886   1478277        48282          The Meatball Shop     American   \n",
       "1888   1477353       106324          The Meatball Shop      Italian   \n",
       "\n",
       "      cost_of_the_order day_of_the_week  rating  food_preparation_time  \\\n",
       "3                 29.20         Weekend       3                     25   \n",
       "12                24.30         Weekend       5                     23   \n",
       "15                16.20         Weekend       5                     33   \n",
       "19                16.20         Weekend       4                     35   \n",
       "22                29.10         Weekday       5                     21   \n",
       "...                 ...             ...     ...                    ...   \n",
       "1880              13.97         Weekend       5                     35   \n",
       "1884              31.43         Weekend       3                     31   \n",
       "1885              29.05         Weekday       4                     27   \n",
       "1886              14.50         Weekend       5                     34   \n",
       "1888              16.20         Weekend       5                     21   \n",
       "\n",
       "      delivery_time  \n",
       "3                15  \n",
       "12               17  \n",
       "15               25  \n",
       "19               26  \n",
       "22               30  \n",
       "...             ...  \n",
       "1880             27  \n",
       "1884             24  \n",
       "1885             29  \n",
       "1886             25  \n",
       "1888             26  \n",
       "\n",
       "[354 rows x 9 columns]"
      ]
     },
     "execution_count": 80,
     "metadata": {},
     "output_type": "execute_result"
    }
   ],
   "source": [
    "\n",
    "# Filter to get the data of restaurants that have rating count more than 50\n",
    "df_mean_4 = df_rated[df_rated['restaurant_name'].isin(rest_names)].copy()\n",
    "df_mean_4"
   ]
  },
  {
   "cell_type": "code",
   "execution_count": 81,
   "metadata": {},
   "outputs": [
    {
     "data": {
      "text/html": [
       "<div>\n",
       "<style scoped>\n",
       "    .dataframe tbody tr th:only-of-type {\n",
       "        vertical-align: middle;\n",
       "    }\n",
       "\n",
       "    .dataframe tbody tr th {\n",
       "        vertical-align: top;\n",
       "    }\n",
       "\n",
       "    .dataframe thead th {\n",
       "        text-align: right;\n",
       "    }\n",
       "</style>\n",
       "<table border=\"1\" class=\"dataframe\">\n",
       "  <thead>\n",
       "    <tr style=\"text-align: right;\">\n",
       "      <th></th>\n",
       "      <th>restaurant_name</th>\n",
       "      <th>rating</th>\n",
       "    </tr>\n",
       "  </thead>\n",
       "  <tbody>\n",
       "    <tr>\n",
       "      <th>0</th>\n",
       "      <td>The Meatball Shop</td>\n",
       "      <td>4.511905</td>\n",
       "    </tr>\n",
       "    <tr>\n",
       "      <th>1</th>\n",
       "      <td>Blue Ribbon Fried Chicken</td>\n",
       "      <td>4.328125</td>\n",
       "    </tr>\n",
       "    <tr>\n",
       "      <th>2</th>\n",
       "      <td>Shake Shack</td>\n",
       "      <td>4.278195</td>\n",
       "    </tr>\n",
       "    <tr>\n",
       "      <th>3</th>\n",
       "      <td>Blue Ribbon Sushi</td>\n",
       "      <td>4.219178</td>\n",
       "    </tr>\n",
       "  </tbody>\n",
       "</table>\n",
       "</div>"
      ],
      "text/plain": [
       "             restaurant_name    rating\n",
       "0          The Meatball Shop  4.511905\n",
       "1  Blue Ribbon Fried Chicken  4.328125\n",
       "2                Shake Shack  4.278195\n",
       "3          Blue Ribbon Sushi  4.219178"
      ]
     },
     "execution_count": 81,
     "metadata": {},
     "output_type": "execute_result"
    }
   ],
   "source": [
    "# Group the restaurant names with their ratings and find the mean rating of each restaurant\n",
    "df_mean_4.groupby(['restaurant_name'])['rating'].mean().sort_values(ascending = False).reset_index().dropna() \n"
   ]
  },
  {
   "cell_type": "markdown",
   "metadata": {
    "id": "10uryUMhJY_V"
   },
   "source": [
    "#### Observations:\n",
    "As you see the 4 restaurants on the list are fulfilling the criteria to get the promotional offer. Their name \n",
    "\n",
    "1.   The Meatball Shop\n",
    "2.   Blue Ribbon Fried Chicken\n",
    "3.   Shake Shack\n",
    "4.   Blue Ribbon Sushi"
   ]
  },
  {
   "cell_type": "markdown",
   "metadata": {
    "id": "1gvWBkRUJY_V"
   },
   "source": [
    "### **Question 14:** The company charges the restaurant 25% on the orders having cost greater than 20 dollars and 15% on the orders having cost greater than 5 dollars. Find the net revenue generated by the company across all orders. [3 marks]"
   ]
  },
  {
   "cell_type": "code",
   "execution_count": 82,
   "metadata": {
    "id": "rEjbnTNEJY_W"
   },
   "outputs": [
    {
     "data": {
      "text/html": [
       "<div>\n",
       "<style scoped>\n",
       "    .dataframe tbody tr th:only-of-type {\n",
       "        vertical-align: middle;\n",
       "    }\n",
       "\n",
       "    .dataframe tbody tr th {\n",
       "        vertical-align: top;\n",
       "    }\n",
       "\n",
       "    .dataframe thead th {\n",
       "        text-align: right;\n",
       "    }\n",
       "</style>\n",
       "<table border=\"1\" class=\"dataframe\">\n",
       "  <thead>\n",
       "    <tr style=\"text-align: right;\">\n",
       "      <th></th>\n",
       "      <th>order_id</th>\n",
       "      <th>customer_id</th>\n",
       "      <th>restaurant_name</th>\n",
       "      <th>cuisine_type</th>\n",
       "      <th>cost_of_the_order</th>\n",
       "      <th>day_of_the_week</th>\n",
       "      <th>rating</th>\n",
       "      <th>food_preparation_time</th>\n",
       "      <th>delivery_time</th>\n",
       "      <th>Revenue</th>\n",
       "    </tr>\n",
       "  </thead>\n",
       "  <tbody>\n",
       "    <tr>\n",
       "      <th>0</th>\n",
       "      <td>1477147</td>\n",
       "      <td>337525</td>\n",
       "      <td>Hangawi</td>\n",
       "      <td>Korean</td>\n",
       "      <td>30.75</td>\n",
       "      <td>Weekend</td>\n",
       "      <td>Not given</td>\n",
       "      <td>25</td>\n",
       "      <td>20</td>\n",
       "      <td>7.6875</td>\n",
       "    </tr>\n",
       "    <tr>\n",
       "      <th>1</th>\n",
       "      <td>1477685</td>\n",
       "      <td>358141</td>\n",
       "      <td>Blue Ribbon Sushi Izakaya</td>\n",
       "      <td>Japanese</td>\n",
       "      <td>12.08</td>\n",
       "      <td>Weekend</td>\n",
       "      <td>Not given</td>\n",
       "      <td>25</td>\n",
       "      <td>23</td>\n",
       "      <td>1.8120</td>\n",
       "    </tr>\n",
       "    <tr>\n",
       "      <th>2</th>\n",
       "      <td>1477070</td>\n",
       "      <td>66393</td>\n",
       "      <td>Cafe Habana</td>\n",
       "      <td>Mexican</td>\n",
       "      <td>12.23</td>\n",
       "      <td>Weekday</td>\n",
       "      <td>5</td>\n",
       "      <td>23</td>\n",
       "      <td>28</td>\n",
       "      <td>1.8345</td>\n",
       "    </tr>\n",
       "    <tr>\n",
       "      <th>3</th>\n",
       "      <td>1477334</td>\n",
       "      <td>106968</td>\n",
       "      <td>Blue Ribbon Fried Chicken</td>\n",
       "      <td>American</td>\n",
       "      <td>29.20</td>\n",
       "      <td>Weekend</td>\n",
       "      <td>3</td>\n",
       "      <td>25</td>\n",
       "      <td>15</td>\n",
       "      <td>7.3000</td>\n",
       "    </tr>\n",
       "    <tr>\n",
       "      <th>4</th>\n",
       "      <td>1478249</td>\n",
       "      <td>76942</td>\n",
       "      <td>Dirty Bird to Go</td>\n",
       "      <td>American</td>\n",
       "      <td>11.59</td>\n",
       "      <td>Weekday</td>\n",
       "      <td>4</td>\n",
       "      <td>25</td>\n",
       "      <td>24</td>\n",
       "      <td>1.7385</td>\n",
       "    </tr>\n",
       "  </tbody>\n",
       "</table>\n",
       "</div>"
      ],
      "text/plain": [
       "   order_id  customer_id            restaurant_name cuisine_type  \\\n",
       "0   1477147       337525                    Hangawi       Korean   \n",
       "1   1477685       358141  Blue Ribbon Sushi Izakaya     Japanese   \n",
       "2   1477070        66393                Cafe Habana      Mexican   \n",
       "3   1477334       106968  Blue Ribbon Fried Chicken     American   \n",
       "4   1478249        76942           Dirty Bird to Go     American   \n",
       "\n",
       "   cost_of_the_order day_of_the_week     rating  food_preparation_time  \\\n",
       "0              30.75         Weekend  Not given                     25   \n",
       "1              12.08         Weekend  Not given                     25   \n",
       "2              12.23         Weekday          5                     23   \n",
       "3              29.20         Weekend          3                     25   \n",
       "4              11.59         Weekday          4                     25   \n",
       "\n",
       "   delivery_time  Revenue  \n",
       "0             20   7.6875  \n",
       "1             23   1.8120  \n",
       "2             28   1.8345  \n",
       "3             15   7.3000  \n",
       "4             24   1.7385  "
      ]
     },
     "execution_count": 82,
     "metadata": {},
     "output_type": "execute_result"
    }
   ],
   "source": [
    "def compute_rev(x):\n",
    "    if x > 20:\n",
    "        return x*0.25\n",
    "    elif x > 5:\n",
    "        return x*0.15\n",
    "    else:\n",
    "        return x*0\n",
    "\n",
    "df['Revenue'] = df['cost_of_the_order'].apply(compute_rev)\n",
    "df.head()"
   ]
  },
  {
   "cell_type": "code",
   "execution_count": 83,
   "metadata": {},
   "outputs": [
    {
     "name": "stdout",
     "output_type": "stream",
     "text": [
      "The net revenue is around 6166.3 dollars\n"
     ]
    }
   ],
   "source": [
    "total_rev = df['Revenue'].sum() \n",
    "print('The net revenue is around', round(total_rev, 2), 'dollars')"
   ]
  },
  {
   "cell_type": "markdown",
   "metadata": {
    "id": "XHCEJgH0JY_W"
   },
   "source": [
    "#### Observations:\n",
    "Revenue column generated and added at the end of the column list. Then Total renevue calculated.\n",
    "The net revenue is around 6166.3 dollars"
   ]
  },
  {
   "cell_type": "markdown",
   "metadata": {
    "id": "pRlVW-oeJY_W"
   },
   "source": [
    "### **Question 15:** The company wants to analyze the total time required to deliver the food. What percentage of orders take more than 60 minutes to get delivered from the time the order is placed? (The food has to be prepared and then delivered.) [2 marks]"
   ]
  },
  {
   "cell_type": "code",
   "execution_count": 84,
   "metadata": {
    "id": "zxoTrxfLJY_W"
   },
   "outputs": [
    {
     "name": "stdout",
     "output_type": "stream",
     "text": [
      "Percentage of orders that have more than 60 minutes of total delivery time: 10.54 %\n"
     ]
    }
   ],
   "source": [
    "df['total_time'] = df['food_preparation_time'] + df['delivery_time']\n",
    "\n",
    "df_greater_than_60 = df[df['total_time']>60]\n",
    "percentage = (df_greater_than_60.shape[0] / df.shape[0]) * 100\n",
    "\n",
    "print(\"Percentage of orders that have more than 60 minutes of total delivery time:\", round(percentage, 2), '%')"
   ]
  },
  {
   "cell_type": "markdown",
   "metadata": {
    "id": "iqzBXn2yJY_W"
   },
   "source": [
    "#### Observations:\n",
    "- Approx. 90% of the orders are delivered less than 60 minutes.\n",
    "\n"
   ]
  },
  {
   "cell_type": "markdown",
   "metadata": {
    "id": "bUd6cYpPJY_W"
   },
   "source": [
    "### **Question 16:** The company wants to analyze the delivery time of the orders on weekdays and weekends. How does the mean delivery time vary during weekdays and weekends? [2 marks]"
   ]
  },
  {
   "cell_type": "code",
   "execution_count": 85,
   "metadata": {
    "id": "pIU5xZZ6JY_W"
   },
   "outputs": [
    {
     "name": "stdout",
     "output_type": "stream",
     "text": [
      "The mean delivery time on weekdays is around 28 minutes\n",
      "The mean delivery time on weekends is around 22 minutes\n"
     ]
    }
   ],
   "source": [
    "print('The mean delivery time on weekdays is around', \n",
    "      round(df[df['day_of_the_week'] == 'Weekday']['delivery_time'].mean()),\n",
    "     'minutes')\n",
    "print('The mean delivery time on weekends is around', \n",
    "      round(df[df['day_of_the_week'] == 'Weekend']['delivery_time'].mean()),\n",
    "     'minutes')"
   ]
  },
  {
   "cell_type": "markdown",
   "metadata": {
    "id": "8H-ODxbVJY_W"
   },
   "source": [
    "#### Observations:\n",
    "- Weekends orders are delivered faster than Weekdays on the average."
   ]
  },
  {
   "cell_type": "markdown",
   "metadata": {
    "id": "17roJywaJY_W"
   },
   "source": [
    "### Conclusion and Recommendations"
   ]
  },
  {
   "cell_type": "markdown",
   "metadata": {
    "id": "ZdX2Wz4FJY_W"
   },
   "source": [
    "### **Question 17:** What are your conclusions from the analysis? What recommendations would you like to share to help improve the business? (You can use cuisine type and feedback ratings to drive your business recommendations.) [6 marks]"
   ]
  },
  {
   "cell_type": "markdown",
   "metadata": {
    "id": "VTugVsL4Ddz-"
   },
   "source": [
    "### Conclusions:\n",
    "* The mean cost of orders is determined to be approximately 16.498851 dollars. Of the various cuisines offered, American, Japanese, Italian, and Chinese are the most popular among customers. It has been observed that a staggering 90% of orders are delivered to customers within 60 minutes or less. A strong correlation between revenue and order cost has been established. However, no significant correlation was found to exist between the columns within the dataset. A notable issue is the prevalence of \"Not given\" ratings, with 736 out of 1898 ratings falling under this category. It has been determined that delivery time exerts a significant influence on customer ratings, with longer delivery times resulting in a greater proportion of 3 out of 5 ratings. Furthermore, it has been observed that orders placed on weekends tend to be delivered faster, with an average delivery time of 22 minutes, as opposed to the average of 28 minutes for orders placed on weekdays."
   ]
  },
  {
   "cell_type": "markdown",
   "metadata": {
    "id": "PWnsI0i_guWJ"
   },
   "source": [
    "### Recommendations:\n",
    "\n",
    "*  Strategies such as offering incentives for less popular cuisine options may be implemented to stimulate demand for those specific dishes, thus increasing overall orders for those types of cuisine. Additionally, minimizing delivery time across all days, not solely weekends, could lead to an increase in customer satisfaction and ultimately drive customer acquisition. Furthermore, encouraging customers to provide ratings for their orders could aid in identifying patterns and trends within the data, ultimately allowing for more effective and efficient optimization of the company's model. Furthermore, given the diverse culinary landscape of New York City, the company could consider expanding its offerings to include a wider range of cuisines, thus catering to a broader customer base and ultimately driving an increase in orders."
   ]
  },
  {
   "cell_type": "markdown",
   "metadata": {
    "id": "tSoucKKbg9Hc"
   },
   "source": [
    "---"
   ]
  }
 ],
 "metadata": {
  "colab": {
   "collapsed_sections": [],
   "name": "PYF_Project_LearnerNotebook_FullCode.ipynb",
   "provenance": []
  },
  "kernelspec": {
   "display_name": "Python 3",
   "language": "python",
   "name": "python3"
  },
  "language_info": {
   "codemirror_mode": {
    "name": "ipython",
    "version": 3
   },
   "file_extension": ".py",
   "mimetype": "text/x-python",
   "name": "python",
   "nbconvert_exporter": "python",
   "pygments_lexer": "ipython3",
   "version": "3.8.8"
  }
 },
 "nbformat": 4,
 "nbformat_minor": 1
}
